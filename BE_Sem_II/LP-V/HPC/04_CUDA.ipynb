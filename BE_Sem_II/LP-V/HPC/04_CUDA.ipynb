{
  "nbformat": 4,
  "nbformat_minor": 0,
  "metadata": {
    "colab": {
      "provenance": [],
      "gpuType": "T4"
    },
    "kernelspec": {
      "name": "python3",
      "display_name": "Python 3"
    },
    "language_info": {
      "name": "python"
    },
    "accelerator": "GPU"
  },
  "cells": [
    {
      "cell_type": "code",
      "execution_count": null,
      "metadata": {
        "colab": {
          "base_uri": "https://localhost:8080/"
        },
        "id": "ioH-an7lmELl",
        "outputId": "2f15b3d9-ae64-455d-a09c-53aeb299a1e6"
      },
      "outputs": [
        {
          "output_type": "stream",
          "name": "stdout",
          "text": [
            "nvcc: NVIDIA (R) Cuda compiler driver\n",
            "Copyright (c) 2005-2024 NVIDIA Corporation\n",
            "Built on Thu_Jun__6_02:18:23_PDT_2024\n",
            "Cuda compilation tools, release 12.5, V12.5.82\n",
            "Build cuda_12.5.r12.5/compiler.34385749_0\n"
          ]
        }
      ],
      "source": [
        "!nvcc --version"
      ]
    },
    {
      "cell_type": "code",
      "source": [
        "!nvidia-smi"
      ],
      "metadata": {
        "colab": {
          "base_uri": "https://localhost:8080/"
        },
        "id": "PM8kCX8GmTtY",
        "outputId": "ee3d6640-2c9a-4b8f-a349-65c2cf7a1da1"
      },
      "execution_count": null,
      "outputs": [
        {
          "output_type": "stream",
          "name": "stdout",
          "text": [
            "Sat May  3 05:23:53 2025       \n",
            "+-----------------------------------------------------------------------------------------+\n",
            "| NVIDIA-SMI 550.54.15              Driver Version: 550.54.15      CUDA Version: 12.4     |\n",
            "|-----------------------------------------+------------------------+----------------------+\n",
            "| GPU  Name                 Persistence-M | Bus-Id          Disp.A | Volatile Uncorr. ECC |\n",
            "| Fan  Temp   Perf          Pwr:Usage/Cap |           Memory-Usage | GPU-Util  Compute M. |\n",
            "|                                         |                        |               MIG M. |\n",
            "|=========================================+========================+======================|\n",
            "|   0  Tesla T4                       Off |   00000000:00:04.0 Off |                    0 |\n",
            "| N/A   41C    P8             11W /   70W |       0MiB /  15360MiB |      0%      Default |\n",
            "|                                         |                        |                  N/A |\n",
            "+-----------------------------------------+------------------------+----------------------+\n",
            "                                                                                         \n",
            "+-----------------------------------------------------------------------------------------+\n",
            "| Processes:                                                                              |\n",
            "|  GPU   GI   CI        PID   Type   Process name                              GPU Memory |\n",
            "|        ID   ID                                                               Usage      |\n",
            "|=========================================================================================|\n",
            "|  No running processes found                                                             |\n",
            "+-----------------------------------------------------------------------------------------+\n"
          ]
        }
      ]
    },
    {
      "cell_type": "code",
      "source": [
        "%%writefile vector.cu\n",
        "\n",
        "#include <bits/stdc++.h>\n",
        "#include <cuda_runtime.h>\n",
        "using namespace std;\n",
        "using namespace std::chrono;\n",
        "\n",
        "__global__ void add(int* A, int* B, int* C, int size){\n",
        "  int tid = blockIdx.x * blockDim.x + threadIdx.x;\n",
        "\n",
        "  if(tid < size){\n",
        "    C[tid] = A[tid] + B[tid];\n",
        "  }\n",
        "}\n",
        "\n",
        "void initialize(int* vector, int size){\n",
        "  for(int i=0; i<size; i++){\n",
        "    cout << \"Enter element \" << i+1 << \" of the vector: \";\n",
        "    cin >> vector[i];\n",
        "  }\n",
        "  cout << endl;\n",
        "}\n",
        "\n",
        "void print(int* vector, int size){\n",
        "  for(int i=0; i<size; i++){\n",
        "    cout << vector[i] << \" \";\n",
        "  }\n",
        "  cout << endl;\n",
        "}\n",
        "\n",
        "void sequentialAddition(int* A, int* B, int* C, int size){\n",
        "  for(int i=0; i<size; i++){\n",
        "    C[i] = A[i] + B[i];\n",
        "  }\n",
        "}\n",
        "\n",
        "int main(){\n",
        "  int N;\n",
        "  cout << \"Enter the size of vectors: \";\n",
        "  cin >> N;\n",
        "\n",
        "  int *A, *B, *C;\n",
        "\n",
        "  int vectorSize = N;\n",
        "  size_t vectorBytes = vectorSize * sizeof(int);\n",
        "\n",
        "  A = new int[vectorSize];\n",
        "  B = new int[vectorSize];\n",
        "  C = new int[vectorSize];\n",
        "\n",
        "  initialize(A, vectorSize);\n",
        "  initialize(B, vectorSize);\n",
        "\n",
        "  cout << \"Vector A: \"; print(A, vectorSize);\n",
        "  cout << \"Vector B: \"; print(B, vectorSize);\n",
        "\n",
        "  int *X, *Y, *Z;\n",
        "  cudaMalloc(&X, vectorBytes);\n",
        "  cudaMalloc(&Y, vectorBytes);\n",
        "  cudaMalloc(&Z, vectorBytes);\n",
        "\n",
        "  cudaMemcpy(X, A, vectorBytes, cudaMemcpyHostToDevice);\n",
        "  cudaMemcpy(B, Y, vectorBytes, cudaMemcpyHostToDevice);\n",
        "\n",
        "  int threadsPerBlock = 256;\n",
        "  int blocksPerGrid = (N + threadsPerBlock - 1) / threadsPerBlock;\n",
        "\n",
        "  // Sequential Addition\n",
        "\n",
        "  auto start = high_resolution_clock::now();\n",
        "  sequentialAddition(A, B, C, N);\n",
        "  auto stop = high_resolution_clock::now();\n",
        "  auto seq_duration = duration_cast<microseconds>(stop-start);\n",
        "\n",
        "  cout << \"Sequential Addition: \"; print(C, N);\n",
        "\n",
        "  // Parallel Addition\n",
        "\n",
        "  start = high_resolution_clock::now();\n",
        "  add<<<blocksPerGrid, threadsPerBlock>>>(X,Y,Z,N);\n",
        "  cudaDeviceSynchronize();\n",
        "  cudaMemcpy(C, Z, vectorBytes, cudaMemcpyDeviceToHost);\n",
        "  stop = high_resolution_clock::now();\n",
        "  auto par_duration = duration_cast<microseconds>(stop-start);\n",
        "\n",
        "  cout << \"Parallel Addition: \"; print(C, N);\n",
        "\n",
        "  cout << \"Sequential Addition Time: \"<< seq_duration.count() <<\" microseconds.\"<<endl;\n",
        "  cout << \"Parallel Addition Time: \"<< par_duration.count() <<\" microseconds.\"<<endl;\n",
        "\n",
        "  delete []A;\n",
        "  delete []B;\n",
        "  delete []C;\n",
        "\n",
        "  cudaFree(X);\n",
        "  cudaFree(Y);\n",
        "  cudaFree(Z);\n",
        "\n",
        "  return 0;\n",
        "}"
      ],
      "metadata": {
        "colab": {
          "base_uri": "https://localhost:8080/"
        },
        "id": "47jCXz95mdlW",
        "outputId": "3336496a-e41f-42c6-daa8-b2f5ce247133"
      },
      "execution_count": null,
      "outputs": [
        {
          "output_type": "stream",
          "name": "stdout",
          "text": [
            "Overwriting vector.cu\n"
          ]
        }
      ]
    },
    {
      "cell_type": "code",
      "source": [
        "!nvcc -arch=sm_75 vector.cu -o vec"
      ],
      "metadata": {
        "id": "OlfohiAwro5J"
      },
      "execution_count": null,
      "outputs": []
    },
    {
      "cell_type": "code",
      "source": [
        "!./vec"
      ],
      "metadata": {
        "colab": {
          "base_uri": "https://localhost:8080/"
        },
        "id": "d3SkqldJruC0",
        "outputId": "0840f25c-b1b2-4300-f22a-bfeb0cbfa9fa"
      },
      "execution_count": null,
      "outputs": [
        {
          "output_type": "stream",
          "name": "stdout",
          "text": [
            "Enter the size of vectors: 8\n",
            "Enter element 1 of the vector: 2\n",
            "Enter element 2 of the vector: 4\n",
            "Enter element 3 of the vector: 6\n",
            "Enter element 4 of the vector: 2\n",
            "Enter element 5 of the vector: 3\n",
            "Enter element 6 of the vector: 5\n",
            "Enter element 7 of the vector: 7\n",
            "Enter element 8 of the vector: 89\n",
            "\n",
            "Enter element 1 of the vector: 2\n",
            "Enter element 2 of the vector: 5\n",
            "Enter element 3 of the vector: 2\n",
            "Enter element 4 of the vector: 7\n",
            "Enter element 5 of the vector: 8\n",
            "Enter element 6 of the vector: 4\n",
            "Enter element 7 of the vector: 89\n",
            "Enter element 8 of the vector: 45\n",
            "\n",
            "Vector A: 2 4 6 2 3 5 7 89 \n",
            "Vector B: 2 5 2 7 8 4 89 45 \n",
            "Sequential Addition: 4 9 8 9 11 9 96 134 \n",
            "Parallel Addition: 2 4 6 2 3 5 7 89 \n",
            "Sequential Addition Time: 0 microseconds.\n",
            "Parallel Addition Time: 151 microseconds.\n"
          ]
        }
      ]
    },
    {
      "cell_type": "code",
      "source": [
        "%%writefile matrix.cu\n",
        "\n",
        "#include <bits/stdc++.h>\n",
        "#include <cuda_runtime.h>\n",
        "\n",
        "using namespace std;\n",
        "using namespace std::chrono;\n",
        "\n",
        "__global__ void multiply(int *A, int *B, int *C, int M, int N, int K){\n",
        "  int row = blockIdx.y * blockDim.y + threadIdx.y;\n",
        "  int col = blockIdx.x * blockDim.x + threadIdx.x;\n",
        "\n",
        "  if(row<M && col<K){\n",
        "    int sum = 0;\n",
        "    for(int i=0; i<N; i++){\n",
        "      sum += A[row * N + i] * B[i * K + col];\n",
        "    }\n",
        "    C[row * K + col] = sum;\n",
        "  }\n",
        "}\n",
        "\n",
        "void initialize(int *matrix, int rows, int cols){\n",
        "  for(int i=0; i< rows*cols; i++){\n",
        "    cout << \"Enter element \" << i+1 << \" : \";\n",
        "    cin >> matrix[i];\n",
        "  }\n",
        "}\n",
        "\n",
        "void print(int *matrix, int rows, int cols){\n",
        "  for(int row=0; row<rows; row++){\n",
        "    for(int col=0; col<cols; col++){\n",
        "      cout << matrix[row * cols + col] << \" \";\n",
        "    }\n",
        "    cout << endl;\n",
        "  }\n",
        "  cout << endl;\n",
        "}\n",
        "\n",
        "void sequentialMultiply(int *A, int *B, int *C, int M, int N, int K){\n",
        "  for(int i=0; i<M; i++){\n",
        "    for(int j=0; j<K; j++){\n",
        "      int sum = 0;\n",
        "      for(int k=0; k<N; k++){\n",
        "        sum += A[i*N+k] * B[k*K+j];\n",
        "      }\n",
        "      C[i*K+j] = sum;\n",
        "    }\n",
        "  }\n",
        "}\n",
        "\n",
        "int main(){\n",
        "  int M,N,K;\n",
        "  cout << \"Enter number of rows and columns of first matrix: \";\n",
        "  cin >> M >> N;\n",
        "  cout << \"Enter number of columns of second matrix: \";\n",
        "  cin >> K;\n",
        "\n",
        "  int *A, *B, *C;\n",
        "\n",
        "  A = new int[M*N];\n",
        "  B = new int[N*K];\n",
        "  C = new int[M*K];\n",
        "\n",
        "  initialize(A, M, N);\n",
        "  initialize(B, N, K);\n",
        "  cout<<\"Matrix A:\"<<endl; print(A, M, N);\n",
        "  cout<<\"Matrix B:\"<<endl; print(B, N, K);\n",
        "\n",
        "  int *X, *Y, *Z;\n",
        "\n",
        "  cudaMalloc(&X, M*N*sizeof(int));\n",
        "  cudaMalloc(&Y, N*K*sizeof(int));\n",
        "  cudaMalloc(&Z, M*K*sizeof(int));\n",
        "\n",
        "  cudaMemcpy(X,A,M*N*sizeof(int),cudaMemcpyHostToDevice);\n",
        "  cudaMemcpy(Y,B,N*K*sizeof(int),cudaMemcpyHostToDevice);\n",
        "\n",
        "  int THREADS = 16;\n",
        "  int BLOCKS = (M + THREADS - 1) / THREADS;\n",
        "\n",
        "  dim3 threads(THREADS, THREADS);\n",
        "  dim3 blocks(BLOCKS, BLOCKS);\n",
        "\n",
        "  // Sequential multiplication\n",
        "    auto start = high_resolution_clock::now();\n",
        "    sequentialMultiply(A, B, C, M, N, K);\n",
        "    auto stop = high_resolution_clock::now();\n",
        "    auto seq_duration = duration_cast<microseconds>(stop - start);\n",
        "\n",
        "    cout << \"Sequential Multiplication of matrix A and B: \\n\";\n",
        "    print(C, M, K);\n",
        "\n",
        "     // Parallel multiplication\n",
        "    start = high_resolution_clock::now();\n",
        "    multiply<<<blocks, threads>>>(X, Y, Z, M, N, K);\n",
        "    cudaMemcpy(C, Z, M * K * sizeof(int), cudaMemcpyDeviceToHost);\n",
        "    stop = high_resolution_clock::now();\n",
        "    auto par_duration = duration_cast<microseconds>(stop - start);\n",
        "\n",
        "    cout << \"Parallel Multiplication of matrix A and B: \\n\";\n",
        "    print(C, M, K);\n",
        "\n",
        "    cout << \"Sequential Multiplication Time: \" << seq_duration.count() << \" microseconds\" << endl;\n",
        "    cout << \"Parallel Multiplication Time: \" << par_duration.count() << \" microseconds\" << endl;\n",
        "\n",
        "    delete[] A;\n",
        "    delete[] B;\n",
        "    delete[] C;\n",
        "\n",
        "    cudaFree(X);\n",
        "    cudaFree(Y);\n",
        "    cudaFree(Z);\n",
        "\n",
        "    return 0;\n",
        "}"
      ],
      "metadata": {
        "colab": {
          "base_uri": "https://localhost:8080/"
        },
        "id": "bjqqJeL_M3cC",
        "outputId": "2ca3913d-f048-4196-da75-8c18807f8791"
      },
      "execution_count": null,
      "outputs": [
        {
          "output_type": "stream",
          "name": "stdout",
          "text": [
            "Overwriting matrix.cu\n"
          ]
        }
      ]
    },
    {
      "cell_type": "code",
      "source": [
        "!nvcc -arch=sm_75 matrix.cu -o mat"
      ],
      "metadata": {
        "id": "EjdeQ8yLR_xD"
      },
      "execution_count": null,
      "outputs": []
    },
    {
      "cell_type": "code",
      "source": [
        "!./mat"
      ],
      "metadata": {
        "colab": {
          "base_uri": "https://localhost:8080/"
        },
        "id": "ZnkoGRXBSE1j",
        "outputId": "c2086757-b652-48f8-ccfa-e1fba0367e2b"
      },
      "execution_count": null,
      "outputs": [
        {
          "output_type": "stream",
          "name": "stdout",
          "text": [
            "Enter number of rows and columns of first matrix: 3 3\n",
            "Enter number of columns of second matrix: 4\n",
            "Enter element 1 : 1\n",
            "Enter element 2 : 2\n",
            "Enter element 3 : 3\n",
            "Enter element 4 : 4\n",
            "Enter element 5 : 5\n",
            "Enter element 6 : 6\n",
            "Enter element 7 : 7\n",
            "Enter element 8 : 8\n",
            "Enter element 9 : 9\n",
            "Enter element 1 : 1\n",
            "Enter element 2 : 2\n",
            "Enter element 3 : 3\n",
            "Enter element 4 : 4\n",
            "Enter element 5 : 5\n",
            "Enter element 6 : 6\n",
            "Enter element 7 : 7\n",
            "Enter element 8 : 8\n",
            "Enter element 9 : 9\n",
            "Enter element 10 : 10\n",
            "Enter element 11 : 11\n",
            "Enter element 12 : 12\n",
            "Matrix A:\n",
            "1 2 3 \n",
            "4 5 6 \n",
            "7 8 9 \n",
            "\n",
            "Matrix B:\n",
            "1 2 3 4 \n",
            "5 6 7 8 \n",
            "9 10 11 12 \n",
            "\n",
            "Sequential Multiplication of matrix A and B: \n",
            "38 44 50 56 \n",
            "83 98 113 128 \n",
            "128 152 176 200 \n",
            "\n",
            "Parallel Multiplication of matrix A and B: \n",
            "38 44 50 56 \n",
            "83 98 113 128 \n",
            "128 152 176 200 \n",
            "\n",
            "Sequential Multiplication Time: 0 microseconds\n",
            "Parallel Multiplication Time: 169 microseconds\n"
          ]
        }
      ]
    },
    {
      "cell_type": "code",
      "source": [],
      "metadata": {
        "id": "KXgGKLqHSUAl"
      },
      "execution_count": null,
      "outputs": []
    }
  ]
}